{
 "cells": [
  {
   "cell_type": "markdown",
   "id": "fb594515-2a22-40e8-acf0-be9027ee1f4d",
   "metadata": {},
   "source": [
    "https://www.youtube.com/live/1ZfEiwF6kYQ?feature=share&t=5166\n",
    "\n",
    "<h3 style=\"color:#2E8B57\">Задача № 1</h3>\n",
    "\n",
    "Сумма двух. Имеется отсортированный массив целочисленных значений. Необходимо найти два числа i != j, которые в сумме дают ближе всего к числу Х. \n",
    "\n",
    "<h4 align='center'>Решение:</h4>"
   ]
  },
  {
   "cell_type": "code",
   "execution_count": 52,
   "id": "de0dcaac-9c55-443e-b45f-689d48a47162",
   "metadata": {
    "tags": []
   },
   "outputs": [
    {
     "data": {
      "text/plain": [
       "[1, 4, 7, 8, 10]"
      ]
     },
     "execution_count": 52,
     "metadata": {},
     "output_type": "execute_result"
    }
   ],
   "source": [
    "def closest_sum(array, x):\n",
    "    left = 0\n",
    "    right = len(array) - 1\n",
    "    best_indices = left, right\n",
    "    \n",
    "    while left < right:\n",
    "        if abs(array[left] + array[right] - x) < abs(array[best_indices[0]] + array[best_indices[1]] - x):\n",
    "            best_indices = left, right\n",
    "        if array[left] + array[right] > x:\n",
    "            right -= 1\n",
    "        else:\n",
    "            left += 1\n",
    "    return best_indices\n",
    "\n",
    "[1, 4, 7, 8, 10]"
   ]
  },
  {
   "cell_type": "code",
   "execution_count": 58,
   "id": "f1338f46-c1f3-4510-9a6b-6df37b86dca8",
   "metadata": {
    "tags": []
   },
   "outputs": [],
   "source": [
    "assert(closest_sum([1, 2, 2, 3, 3], 4) == (0, 4))\n",
    "assert(closest_sum([1, 1, 2, 2], 4) == (2, 3))"
   ]
  },
  {
   "cell_type": "code",
   "execution_count": 54,
   "id": "bde110ff-5d7a-4636-a95c-394c48a0b40b",
   "metadata": {
    "tags": []
   },
   "outputs": [
    {
     "data": {
      "text/plain": [
       "(2, 3)"
      ]
     },
     "execution_count": 54,
     "metadata": {},
     "output_type": "execute_result"
    }
   ],
   "source": [
    "closest_sum([1, 1, 2, 2], 4)"
   ]
  },
  {
   "cell_type": "markdown",
   "id": "218204f4-3fce-4e29-aab4-a586b4ed9df3",
   "metadata": {},
   "source": [
    "<h3 style=\"color:#2E8B57\">Задача № 2</h3>\n",
    "\n",
    "Имеется строка S из различных символов. Необходимо найти самую большую подстроку из уникальных символов\n",
    "\n",
    "<h4 align='center'>Решение:</h4>"
   ]
  },
  {
   "cell_type": "code",
   "execution_count": null,
   "id": "20bd62cc-3118-4737-8768-c1a987c8fd52",
   "metadata": {},
   "outputs": [],
   "source": [
    "def best"
   ]
  }
 ],
 "metadata": {
  "kernelspec": {
   "display_name": "Python 3 (ipykernel)",
   "language": "python",
   "name": "python3"
  },
  "language_info": {
   "codemirror_mode": {
    "name": "ipython",
    "version": 3
   },
   "file_extension": ".py",
   "mimetype": "text/x-python",
   "name": "python",
   "nbconvert_exporter": "python",
   "pygments_lexer": "ipython3",
   "version": "3.10.11"
  }
 },
 "nbformat": 4,
 "nbformat_minor": 5
}
