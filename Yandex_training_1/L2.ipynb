{
 "cells": [
  {
   "cell_type": "markdown",
   "id": "bf34c5d5",
   "metadata": {},
   "source": [
    "<h1 align=\"center\">Тренировки по алгоритмам 1.0</h1>\n",
    "\n",
    "https://yandex.ru/yaintern/algorithm-training_1/\n",
    "\n",
    "<h1 align=\"center\">Лекция 2</h1>"
   ]
  },
  {
   "cell_type": "markdown",
   "id": "5772930a-f86b-40ed-ba53-712020a7261d",
   "metadata": {},
   "source": [
    "<h3 style=\"color:#2E8B57\">Задача № 2</h3>\n",
    "\n",
    "Дана последовательность чисел диной N. Найти последнее (правое/левое) вхождение числа Х в неё или вывести -1, если число Х не встречалось. \n",
    "\n",
    "<h4 align='center'>Решение:</h4>\n",
    "\n",
    "Сведём эту задачу сразу к двум"
   ]
  },
  {
   "cell_type": "code",
   "execution_count": 74,
   "id": "cab76a8a-4361-4898-875c-0eec7ff254f8",
   "metadata": {
    "tags": []
   },
   "outputs": [],
   "source": [
    "data = [14, 10, 11, 2, 10, 2, 2, 5, 6, 6, 2, 7]"
   ]
  },
  {
   "cell_type": "code",
   "execution_count": 108,
   "id": "5956b15e",
   "metadata": {},
   "outputs": [],
   "source": [
    "def get_num_index(seq: list, number: int, rev=False) -> int:\n",
    "    rtype = -1 if rev else 1\n",
    "    \n",
    "    for i in range(len(seq)):\n",
    "        if seq[i * rtype] == number:\n",
    "            return len(seq) - i if rev else i\n",
    "    return -1"
   ]
  },
  {
   "cell_type": "code",
   "execution_count": 116,
   "id": "5c9b2d35-bd2c-419e-bdd9-05dd824f2188",
   "metadata": {
    "tags": []
   },
   "outputs": [
    {
     "name": "stdout",
     "output_type": "stream",
     "text": [
      "3\n",
      "10\n"
     ]
    }
   ],
   "source": [
    "print(get_num_index(data, 2, rev=False))\n",
    "print(get_num_index(data, 2, rev=True))"
   ]
  },
  {
   "cell_type": "markdown",
   "id": "db0a71a8-e641-4f7d-85f4-232f670d6405",
   "metadata": {},
   "source": [
    "<h3 style=\"color:#2E8B57\">Задача № 3</h3>\n",
    "\n",
    "Дана последовательность чисел диной N (N > 0). Найти максимальное число в последовательности.\n",
    "\n",
    "<h4 align='center'>Решение:</h4>"
   ]
  },
  {
   "cell_type": "code",
   "execution_count": 56,
   "id": "443e5453-e626-4f62-9b73-cf6ed892e34e",
   "metadata": {
    "tags": []
   },
   "outputs": [],
   "source": [
    "def find_max(seq: list) -> int:\n",
    "    ans = seq[0]\n",
    "    for i in range(1, len(seq)):\n",
    "        if seq[i] > ans:\n",
    "            ans = seq[i]\n",
    "    return ans\n",
    "\n",
    "# В некоторых языках ans = seq[i] - может занять много времени\n",
    "# т. к копирвоание может занимать время. Исправим это:\n",
    "\n",
    "def find_max(seq: list) -> int:\n",
    "    ans = len(seq) - 1\n",
    "    for i in range(len(seq) - 1):\n",
    "        if seq[i] > seq[ans]:\n",
    "            ans = i\n",
    "    return ans"
   ]
  },
  {
   "cell_type": "markdown",
   "id": "a685cd1d-a8c6-4471-ba04-45aad5f9fdc1",
   "metadata": {},
   "source": [
    "<h3 style=\"color:#2E8B57\">Задача № 4</h3>\n",
    "\n",
    "Найти максимальне число в последовательности и второе по величене число (такое, которое будет максимальным, если вычеркнуть из последовательности одно максимальное число).\n",
    "\n",
    "<h4 align='center'>Решение:</h4>"
   ]
  },
  {
   "cell_type": "code",
   "execution_count": 103,
   "id": "97d2e50b-08cd-4334-a4e0-41812067a01d",
   "metadata": {
    "tags": []
   },
   "outputs": [],
   "source": [
    "def find_two_max(seq: list) -> tuple:\n",
    "    max_1 = max(seq[0], seq[1])\n",
    "    max_2 = min(seq[0], seq[1])\n",
    "    for i in range(2, len(seq)):\n",
    "        if seq[i] > max_1:\n",
    "            max_2 = max_1\n",
    "            max_1 = seq[i]\n",
    "        elif seq[i] > max_2:\n",
    "            max_2 = seq[i]\n",
    "    return max_1, max_2"
   ]
  },
  {
   "cell_type": "code",
   "execution_count": 104,
   "id": "d12abb7e-a64b-4953-bde0-4c35bb87eb8f",
   "metadata": {
    "tags": []
   },
   "outputs": [
    {
     "data": {
      "text/plain": [
       "(14, 12)"
      ]
     },
     "execution_count": 104,
     "metadata": {},
     "output_type": "execute_result"
    }
   ],
   "source": [
    "data = [14, 12, 12, 10, 2, 2, 5, 6, 10, 2, 7]\n",
    "find_two_max(data)"
   ]
  },
  {
   "cell_type": "markdown",
   "id": "8c0b9c00-62f0-4849-974e-0688424fa4e3",
   "metadata": {
    "tags": []
   },
   "source": [
    "<h3 style=\"color:#2E8B57\">Задача № 5</h3>\n",
    "\n",
    "Найти минимальное чётное число в последовательности или вывести -1, если такого числа не существует.\n",
    "\n",
    "<h4 align='center'>Решение:</h4>"
   ]
  },
  {
   "cell_type": "markdown",
   "id": "d4bfe1c1-6b28-40cf-afbd-e097ce94e789",
   "metadata": {},
   "source": [
    "Нет желания в ans хранить -1 или другое число, так как если бы мы искали не чётные числа, получили бы ошибку."
   ]
  },
  {
   "cell_type": "code",
   "execution_count": null,
   "id": "aa50c083-b865-49a6-b9e9-314f68e2b918",
   "metadata": {},
   "outputs": [],
   "source": [
    "def find_min_even(seq: list) -> int:\n",
    "    ans = -1\n",
    "    for i in range(len(seq)):\n",
    "        if seq[i] % 2 == 0 and (ans == -1 or seq[i] < ans):\n",
    "            ans = seq[i]\n",
    "    return ans"
   ]
  },
  {
   "cell_type": "markdown",
   "id": "85ce00f0-f3e0-4ab9-a7df-5fac35481322",
   "metadata": {},
   "source": [
    "Заведём переменную типа Bool"
   ]
  },
  {
   "cell_type": "code",
   "execution_count": 128,
   "id": "4c2442c8-0e56-4233-b132-eaa2559a2903",
   "metadata": {
    "tags": []
   },
   "outputs": [],
   "source": [
    "def find_min_even(seq: list) -> int:\n",
    "    min_even = -1\n",
    "    flag = False\n",
    "    for i in range(1, len(seq)):\n",
    "        if seq[i] % 2 == 0 and  (not flag or seq[i] < min_even):\n",
    "            min_even = seq[i]\n",
    "            flag = True\n",
    "    return min_even"
   ]
  },
  {
   "cell_type": "code",
   "execution_count": 129,
   "id": "22064fcc-7d6f-45cc-a820-f6ebdc61ef41",
   "metadata": {
    "tags": []
   },
   "outputs": [
    {
     "data": {
      "text/plain": [
       "2"
      ]
     },
     "execution_count": 129,
     "metadata": {},
     "output_type": "execute_result"
    }
   ],
   "source": [
    "data = [141, 121, 121, 101, 2, 21, 5, 61, 101, 21, 7]\n",
    "find_min_even(data)"
   ]
  },
  {
   "cell_type": "markdown",
   "id": "a90fc646-c37d-41e6-bec2-54a94042d643",
   "metadata": {},
   "source": [
    "<h3 style=\"color:#2E8B57\">Задача № 6</h3>\n",
    "\n",
    "Дана последовательность слов. Вывести все самые короткие слова через пробел.\n",
    "\n",
    "<h4 align='center'>Решение:</h4>"
   ]
  },
  {
   "cell_type": "markdown",
   "id": "18add305-6959-4a71-a457-a822f0b83e62",
   "metadata": {},
   "source": [
    "Данное решение будет работать медленно, так как мы каждый раз записываем новую строку в память."
   ]
  },
  {
   "cell_type": "code",
   "execution_count": 196,
   "id": "d8d428cb-76f5-4cdf-8c7e-f4d72e5c1cef",
   "metadata": {
    "tags": []
   },
   "outputs": [],
   "source": [
    "def get_all_min_words(words: list) -> list:\n",
    "    min_len = len(words[0])\n",
    "    for word in words:\n",
    "        if len(word) < min_len:\n",
    "            min_len = len(word)\n",
    "    ans = ''\n",
    "    for word in words:\n",
    "        if len(word) == min_len:\n",
    "            ans += word + ' '\n",
    "    return ans"
   ]
  },
  {
   "cell_type": "code",
   "execution_count": 193,
   "id": "94b70f03-db58-4100-b2f5-72e11597a216",
   "metadata": {
    "tags": []
   },
   "outputs": [],
   "source": [
    "def get_all_min_words(words: list) -> list:\n",
    "    min_len = len(words[0])\n",
    "    for word in words:\n",
    "        if len(word) < min_len:\n",
    "            min_len = len(word)\n",
    "    ans = []\n",
    "    for word in words:\n",
    "        if len(word) == min_len:\n",
    "            ans.append(word)\n",
    "    return ' '.join(ans)"
   ]
  },
  {
   "cell_type": "markdown",
   "id": "c064cf60-a5c3-4ef1-8749-6ccecfb87f4b",
   "metadata": {},
   "source": [
    "<h3 style=\"color:#2E8B57\">Задача № 7</h3>\n",
    "\n",
    "Компьютерная игра происходит в двумерном мире, который состоит из блоков 1 на 1 (метр). Острова игроков - это наборы столбцов различной высоты из блоков (камней). Во время сильных дождей все низины островов заполняются водой. По ландшафта островов, определите объем воды, который накапливается на каждом острове.\n",
    "\n",
    "\n",
    "https://ru.stackoverflow.com/questions/1206629\n",
    "<h4 align='center'>Решение:</h4>"
   ]
  },
  {
   "cell_type": "code",
   "execution_count": 198,
   "id": "6b6a06b3-3447-4d13-bc38-a1de4e07e71c",
   "metadata": {
    "tags": []
   },
   "outputs": [],
   "source": [
    "def isleflood(relief: list) -> int:\n",
    "    max_pos = 0\n",
    "    for i in range(len(relief)):\n",
    "        if relief[i] > relief[max_pos]:\n",
    "            max_pos = i\n",
    "    ans = 0\n",
    "    now_max = 0\n",
    "    for i in range(max_pos):\n",
    "        if relief[i] > now_max:\n",
    "            now_max = relief[i]\n",
    "        ans += now_max - relief[i]\n",
    "    \n",
    "    now_max = 0\n",
    "    for i in range(len(relief) - 1, max_pos, -1):\n",
    "        if relief[i] > now_max:\n",
    "            now_max = relief[i]\n",
    "        ans += now_max - relief[i]\n",
    "    return ans"
   ]
  },
  {
   "cell_type": "code",
   "execution_count": 199,
   "id": "a306a4b9-124e-45a0-bd9c-0dfb84771f82",
   "metadata": {
    "tags": []
   },
   "outputs": [
    {
     "name": "stdout",
     "output_type": "stream",
     "text": [
      "399\n",
      "18\n",
      "11023\n"
     ]
    }
   ],
   "source": [
    "print(isleflood([101, 1, 1, 2, 1, 101])) # 399\n",
    "print(isleflood([2, 5, 2, 3, 6, 9, 3, 1, 3, 4, 6])) # 18\n",
    "print(isleflood([1, 2, 3, 4, -11019, 4, 3, 2, 1])) # 11023"
   ]
  },
  {
   "cell_type": "markdown",
   "id": "1780e8d2-358a-460c-85b7-0e537c83b8d9",
   "metadata": {
    "tags": []
   },
   "source": [
    "<h3 style=\"color:#2E8B57\">Задача № 8</h3>\n",
    "\n",
    "Дана строка, состоящая из букв A-Z:\n",
    "\"AAAABBBCCXYZDDDDEEEFFFAAAAAABBBBBBBBBBBBBBBBBBBBBBBBBBBB\"\n",
    "\n",
    "Нужно написать функцию RLE, которая на выходе даст строку вида:\n",
    "\n",
    "    \"A4B3C2XYZD4E3F3A6B28\"\n",
    "И сгенерирует любую ошибку, если на вход пришла невалидная строка.\n",
    "\n",
    "Пояснение:\n",
    "1. Если символ встречается 1 раз, он остается без изменений\n",
    "2. Если символ повторяется более 1 раза, к нему добавляется количество повторений\n",
    "\n",
    "<h4 align='center'>Решение:</h4>"
   ]
  },
  {
   "cell_type": "markdown",
   "id": "7dba4ff3-e20a-4ef4-8d36-7a6dd87b86dc",
   "metadata": {},
   "source": [
    "Разобьём нашу задачу на более простую, а просто избавимся от повторяющихся символов."
   ]
  },
  {
   "cell_type": "code",
   "execution_count": 220,
   "id": "9bad790f-a8a5-48e5-bf83-a82300ba3a50",
   "metadata": {
    "tags": []
   },
   "outputs": [],
   "source": [
    "def rle(string: str) -> str:\n",
    "    last = string[0]\n",
    "    ans = [last]\n",
    "    for i in range(len(string)):\n",
    "        if last != string[i]:\n",
    "            ans.append(string[i])\n",
    "            last = string[i]\n",
    "    return ''.join(ans)"
   ]
  },
  {
   "cell_type": "code",
   "execution_count": 222,
   "id": "cfeb34c9-e4e1-4773-b693-7cf92f74f67a",
   "metadata": {
    "tags": []
   },
   "outputs": [
    {
     "data": {
      "text/plain": [
       "'B'"
      ]
     },
     "execution_count": 222,
     "metadata": {},
     "output_type": "execute_result"
    }
   ],
   "source": [
    "rle('BBBB')"
   ]
  },
  {
   "cell_type": "code",
   "execution_count": 237,
   "id": "62e8ba9e-71ed-402e-82b1-8501b75a7341",
   "metadata": {
    "tags": []
   },
   "outputs": [],
   "source": [
    "def rle(string: str) -> str:\n",
    "    def pack(s, cnt):\n",
    "        return s + str(cnt) if cnt > 1 else s\n",
    "    \n",
    "    last = string[0]\n",
    "    last_pos = 0\n",
    "    ans = []\n",
    "    for i in range(len(string)):\n",
    "        if last != string[i]:\n",
    "            ans.append(pack(last, i - last_pos))\n",
    "            last = string[i]\n",
    "            last_pos = i\n",
    "    ans.append(pack(last, len(string) - last_pos))\n",
    "    return ''.join(ans)"
   ]
  },
  {
   "cell_type": "code",
   "execution_count": 240,
   "id": "1cd05ae1-a8d0-4420-821d-f376778f08b7",
   "metadata": {
    "tags": []
   },
   "outputs": [
    {
     "data": {
      "text/plain": [
       "'B4As2'"
      ]
     },
     "execution_count": 240,
     "metadata": {},
     "output_type": "execute_result"
    }
   ],
   "source": [
    "rle('BBBBAss')"
   ]
  },
  {
   "cell_type": "markdown",
   "id": "b9cb9112-5d10-493b-97ff-bf3df4e5da47",
   "metadata": {
    "tags": []
   },
   "source": [
    "\n",
    "<h1 align=\"center\">Яндекс. Тренировки по алгоритмам июнь 2021, занятие 2</h1>\n",
    "\n",
    "https://contest.yandex.ru/contest/27472/\n"
   ]
  },
  {
   "cell_type": "markdown",
   "id": "916e633e-9aaf-4a6e-b699-6c50f00f5e96",
   "metadata": {},
   "source": [
    "<h3 style=\"color:#2E8B57\">A. Возрастает ли список?</h3>\n",
    "\n",
    "Дан список. Определите, является ли он монотонно возрастающим(то есть верно ли, что каждый элемент этого списка больше предыдущего).\n",
    "\n",
    "Выведите YES, если массив монотонно возрастает и NO в противном случае.\n",
    "\n",
    "<h4 align='center'>Решение:</h4>"
   ]
  },
  {
   "cell_type": "code",
   "execution_count": 6,
   "id": "121189d3-e265-46c2-8718-be644b213057",
   "metadata": {
    "tags": []
   },
   "outputs": [],
   "source": [
    "# numbers = list(map(int, input().split()))\n",
    "\n",
    "def get_type(arr):\n",
    "    for i in range(1, len(arr)):\n",
    "        if arr[i - 1] >= arr[i]:\n",
    "            return \"NO\"\n",
    "    return \"YES\"\n",
    "\n",
    "# print(get_type(numbers))"
   ]
  },
  {
   "cell_type": "markdown",
   "id": "211a99e6-cd3e-4571-8b41-ba80ab27dde1",
   "metadata": {},
   "source": [
    "<h3 style=\"color:#2E8B57\">C. Ближайшее число</h3>\n",
    "\n",
    "Напишите программу, которая находит в массиве элемент, самый близкий по величине к  данному числу.\n",
    "\n",
    "\n",
    "**Формат ввода**\n",
    "\n",
    "В первой строке задается одно натуральное число N, не превосходящее 1000 – размер массива. Во второй строке содержатся N чисел – элементы массива (целые числа, не превосходящие по модулю 1000). В третьей строке вводится одно целое число x, не превосходящее по модулю 1000.\n",
    "\n",
    "**Формат вывода**\n",
    "\n",
    "Вывести значение элемента массива, ближайшее к x. Если таких чисел несколько, выведите любое из них.\n",
    "\n",
    "<h4 align='center'>Решение:</h4>"
   ]
  },
  {
   "cell_type": "code",
   "execution_count": 14,
   "id": "dfb3212d-44ea-4554-9414-07b9afd6046d",
   "metadata": {
    "tags": []
   },
   "outputs": [
    {
     "name": "stdout",
     "output_type": "stream",
     "text": [
      "3\n"
     ]
    }
   ],
   "source": [
    "def find_x(array, x):\n",
    "    best_index = 0\n",
    "    for i in range(1, len(array)):\n",
    "        if abs(array[best_index] - x) > abs(array[i] - x):\n",
    "            best_index = i\n",
    "    return array[best_index]\n",
    "\n",
    "seq = [1, 2, 3, 5, 10]\n",
    "ans = find_x(seq, 4)\n",
    "print(ans)"
   ]
  },
  {
   "cell_type": "markdown",
   "id": "bc4ce86b-c2b4-4728-8a2f-81996f0ee4bd",
   "metadata": {
    "tags": []
   },
   "source": [
    "<h3 style=\"color:#2E8B57\">D. Больше своих соседей</h3>\n",
    "\n",
    "Дан список чисел. Определите, сколько в этом списке элементов, которые больше двух своих соседей и выведите количество таких элементов.\n",
    "\n",
    "**Формат ввода**\n",
    "\n",
    "Вводится список чисел. Все числа списка находятся на одной строке.\n",
    "\n",
    "**Формат вывода**\n",
    "\n",
    "Выведите ответ на задачу.\n",
    "\n",
    "<h4 align='center'>Решение:</h4>"
   ]
  },
  {
   "cell_type": "code",
   "execution_count": 24,
   "id": "8d077870-98ac-450c-bc05-5518a1d61193",
   "metadata": {
    "tags": []
   },
   "outputs": [],
   "source": [
    "def count_big_nei(array):\n",
    "    count = 0\n",
    "    for i in range(1, len(array) - 1):\n",
    "        if array[i - 1] < array[i] > array[i + 1]:\n",
    "            count += 1\n",
    "    return count"
   ]
  },
  {
   "cell_type": "code",
   "execution_count": 26,
   "id": "68577b54-d787-4ebc-a25e-0426cfbfa7ae",
   "metadata": {
    "tags": []
   },
   "outputs": [
    {
     "data": {
      "text/plain": [
       "1"
      ]
     },
     "execution_count": 26,
     "metadata": {},
     "output_type": "execute_result"
    }
   ],
   "source": [
    "count_big_nei([3, 5, 3, 4])"
   ]
  },
  {
   "cell_type": "markdown",
   "id": "401d2793-f66b-478c-b171-2a59e55a29bd",
   "metadata": {},
   "source": [
    "<h3 style=\"color:#2E8B57\">F. Симметричная последовательность</h3>\n",
    "\n",
    "Последовательность чисел назовем симметричной, если она одинаково читается как слева направо, так и справа налево. Например, следующие последовательности являются симметричными:\n",
    "\n",
    "1 2 3 4 5 4 3 2 1\n",
    "\n",
    "1 2 1 2 2 1 2 1\n",
    "\n",
    "Вашей программе будет дана последовательность чисел. Требуется определить, какое минимальное количество и каких чисел надо приписать в конец этой последовательности, чтобы она стала симметричной.\n",
    "\n",
    "**Формат ввода**\n",
    "\n",
    "Сначала вводится число N — количество элементов исходной последовательности (1 ≤ N ≤ 100). Далее идут N чисел — элементы этой последовательности, натуральные числа от 1 до 9.\n",
    "\n",
    "**Формат вывода**\n",
    "\n",
    "Выведите сначала число M — минимальное количество элементов, которое надо дописать к последовательности, а потом M чисел (каждое — от 1 до 9) — числа, которые надо дописать к последовательности.\n",
    "\n",
    "<h4 align='center'>Решение:</h4>"
   ]
  },
  {
   "cell_type": "code",
   "execution_count": 27,
   "id": "6328f2ca",
   "metadata": {
    "tags": []
   },
   "outputs": [],
   "source": [
    "# put your python code here\n",
    "def slow(seq):\n",
    "    for start in range(len(seq)):\n",
    "        i = start\n",
    "        j = len(seq) - 1\n",
    "        while i < len(seq) and j >= 0 and seq[i] == seq[j] and i <= j:\n",
    "            i += 1\n",
    "            j -= 1\n",
    "        if i > j:\n",
    "            ans = []\n",
    "            for i in range(start - 1, -1, -1):\n",
    "                ans.append(seq[i])\n",
    "            return ans\n",
    "\n",
    "# n = int(input())\n",
    "# seq = list(map(int, input().split()))\n",
    "# ans = slow(seq)\n",
    "# print(len(ans))\n",
    "# print(*ans)"
   ]
  },
  {
   "cell_type": "markdown",
   "id": "e9087960-8bc2-40ef-9d84-55664193086f",
   "metadata": {},
   "source": [
    "<h3 style=\"color:#2E8B57\">G. Наибольшее произведение двух чисел</h3>\n",
    "\n",
    "Дан список, заполненный произвольными целыми числами. Найдите в этом списке два числа, произведение которых максимально. Выведите эти числа в порядке неубывания.\n",
    "\n",
    "Список содержит не менее двух элементов. Числа подобраны так, что ответ однозначен.\n",
    "\n",
    "Решение должно иметь сложность O(n), где n - размер списка.\n",
    "\n",
    "<h4 align='center'>Решение:</h4>"
   ]
  },
  {
   "cell_type": "code",
   "execution_count": 217,
   "id": "cb43c7f3-801a-41b9-a231-8229bd4a2caa",
   "metadata": {
    "tags": []
   },
   "outputs": [],
   "source": [
    "# def max_dot_two(array):\n",
    "#     max_a, max_b = (0, 1) if array[0] > array[1] else (1, 0)\n",
    "#     best_dot = array[max_a] * array[max_b]\n",
    "    \n",
    "#     for i in range(2, len(array)):\n",
    "#         if (abs(array[i]) >= abs(array[max_a])) and (array[i] * array[max_a]) >= best_dot:\n",
    "#             max_b = max_a\n",
    "#             max_a = i\n",
    "#         elif (abs(array[i]) >= abs(array[max_b])) and (array[i] * array[max_a]) >= best_dot:\n",
    "#             max_b = i\n",
    "#         best_dot = array[max_a] * array[max_b]\n",
    "#         # print(array[max_b], array[max_a])\n",
    "#     return (array[max_a], array[max_b]) if array[max_b] > array[max_a] else (array[max_b], array[max_a])"
   ]
  },
  {
   "cell_type": "code",
   "execution_count": 215,
   "id": "c023fb7b-05c6-456c-880a-3aaf2a68332b",
   "metadata": {
    "tags": []
   },
   "outputs": [],
   "source": [
    "def max_dot_two(array):\n",
    "    max_a, max_b = (array[0], array[1]) if array[0] > array[1] else (array[1], array[0])\n",
    "    min_a, min_b = max_b, max_a\n",
    "    \n",
    "    for num in array[2:]:\n",
    "        if num >= max_a:\n",
    "            max_b = max_a\n",
    "            max_a = num\n",
    "        elif num > max_b:\n",
    "            max_b = num\n",
    "        \n",
    "        if num <= min_a:\n",
    "            min_b = min_a\n",
    "            min_a = num\n",
    "        elif num < min_b:\n",
    "            min_b = num\n",
    "    return (max_b, max_a) if max_a * max_b > min_a * min_b else (min_a, min_b)\n",
    "\n",
    "# seq = list(map(int, input().split()))\n",
    "# ans = max_dot_two(seq)\n",
    "# print(*ans)"
   ]
  },
  {
   "cell_type": "markdown",
   "id": "d93b7cc2-d372-4005-a95a-91a0421f8e0a",
   "metadata": {
    "tags": []
   },
   "source": [
    "<h3 style=\"color:#2E8B57\">H. Наибольшее произведение трех чисел</h3>\n",
    "\n",
    "В данном списке из n ≤ 105 целых чисел найдите три числа,произведение которых максимально.\n",
    "\n",
    "Решение должно иметь сложность O(n), где n - размер списка.\n",
    "\n",
    "Выведите три искомых числа в любом порядке.\n",
    "\n",
    "<h4 align='center'>Решение:</h4>"
   ]
  },
  {
   "cell_type": "code",
   "execution_count": null,
   "id": "854ac8a9-a720-42cc-8862-3566064ea8ea",
   "metadata": {},
   "outputs": [],
   "source": []
  },
  {
   "cell_type": "code",
   "execution_count": null,
   "id": "37706a4c",
   "metadata": {},
   "outputs": [],
   "source": []
  },
  {
   "cell_type": "code",
   "execution_count": null,
   "id": "93c2f001",
   "metadata": {},
   "outputs": [],
   "source": []
  }
 ],
 "metadata": {
  "kernelspec": {
   "display_name": "Python 3 (ipykernel)",
   "language": "python",
   "name": "python3"
  },
  "language_info": {
   "codemirror_mode": {
    "name": "ipython",
    "version": 3
   },
   "file_extension": ".py",
   "mimetype": "text/x-python",
   "name": "python",
   "nbconvert_exporter": "python",
   "pygments_lexer": "ipython3",
   "version": "3.10.11"
  },
  "varInspector": {
   "cols": {
    "lenName": 16,
    "lenType": 16,
    "lenVar": 40
   },
   "kernels_config": {
    "python": {
     "delete_cmd_postfix": "",
     "delete_cmd_prefix": "del ",
     "library": "var_list.py",
     "varRefreshCmd": "print(var_dic_list())"
    },
    "r": {
     "delete_cmd_postfix": ") ",
     "delete_cmd_prefix": "rm(",
     "library": "var_list.r",
     "varRefreshCmd": "cat(var_dic_list()) "
    }
   },
   "types_to_exclude": [
    "module",
    "function",
    "builtin_function_or_method",
    "instance",
    "_Feature"
   ],
   "window_display": false
  }
 },
 "nbformat": 4,
 "nbformat_minor": 5
}
