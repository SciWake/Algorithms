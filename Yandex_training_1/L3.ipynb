{
 "cells": [
  {
   "cell_type": "markdown",
   "id": "8a4de813",
   "metadata": {},
   "source": [
    "<h1 align=\"center\">Тренировки по алгоритмам 1.0</h1>\n",
    "\n",
    "https://yandex.ru/yaintern/algorithm-training_1/\n",
    "\n",
    "<h1 align=\"center\">Лекция 3</h1>"
   ]
  },
  {
   "cell_type": "markdown",
   "id": "f9dd0975",
   "metadata": {},
   "source": [
    "<h3 style=\"color:#2E8B57\">1. Наше собственное множествво</h3>\n",
    "\n",
    "Реализуйте своё множество.\n",
    "\n",
    "<h4 align='center'>Решение:</h4>"
   ]
  },
  {
   "cell_type": "code",
   "execution_count": 113,
   "id": "3c8621ca",
   "metadata": {},
   "outputs": [],
   "source": [
    "size = 10\n",
    "myset = [[] for _ in range(size)]\n",
    "\n",
    "def add(x):\n",
    "    if not find(x):\n",
    "        myset[x % size].append(x)\n",
    "\n",
    "    \n",
    "def find(x):\n",
    "    h = x % size\n",
    "    for now in myset[x % size]:\n",
    "        if now == x:\n",
    "            return True\n",
    "    return False\n",
    "\n",
    "\n",
    "def delete(x):\n",
    "    xlist = myset[x % size]\n",
    "    for i in range(len(xlist)):\n",
    "        if xlist[i] == x:\n",
    "            xlist[i] = xlist[len(xlist) - 1]\n",
    "            xlist.pop(-1)\n",
    "            break"
   ]
  },
  {
   "cell_type": "markdown",
   "id": "abf1e725",
   "metadata": {},
   "source": [
    "<h3 style=\"color:#2E8B57\">Задача № 1 </h3>\n",
    "\n",
    "Дана последовательность положительных чисел длиной N и число Х.\n",
    "    \n",
    "Нужно найти два различных числа А и В из последоватлеьности, таких что А + В = Х или вернуть пару 0, 0, если такой пары чисел нет.\n",
    "\n",
    "<h4 align='center'>Решение:</h4>"
   ]
  },
  {
   "cell_type": "code",
   "execution_count": 128,
   "id": "a3c93817",
   "metadata": {},
   "outputs": [],
   "source": [
    "def get_two_num(arr, x):\n",
    "    info = set()\n",
    "    for num in arr:\n",
    "        if num in info:\n",
    "            return num, x - num\n",
    "        info.add(x - num) \n",
    "    return 0, 0"
   ]
  },
  {
   "cell_type": "code",
   "execution_count": 127,
   "id": "8e1d8049",
   "metadata": {},
   "outputs": [
    {
     "data": {
      "text/plain": [
       "(8, 4)"
      ]
     },
     "execution_count": 127,
     "metadata": {},
     "output_type": "execute_result"
    }
   ],
   "source": [
    "get_two_num([1, 4, 7, 8, 10], 12)"
   ]
  },
  {
   "cell_type": "markdown",
   "id": "d42fdb35",
   "metadata": {},
   "source": [
    "<h3 style=\"color:#2E8B57\">Задача № 2</h3>\n",
    "\n",
    "Дан словарь из N слов, длина каждого не превосходит К.\n",
    "\n",
    "В записи каждого из М слов текста (каждое длиной до К) может быть пропущена одна буква. Для каждого слова сказать, входит ли оно (возможно, с одной пропущенной буквой), в словарь\n",
    "<h4 align='center'>Решение:</h4>"
   ]
  },
  {
   "cell_type": "code",
   "execution_count": 161,
   "id": "b83120df",
   "metadata": {},
   "outputs": [],
   "source": [
    "def words_in_dict(dictionary, text):\n",
    "    setwords = set(dictionary)\n",
    "    for word in dictionary:\n",
    "        for delpos in range(len(word)):\n",
    "            setwords.add(word[:delpos] + word[delpos + 1:])\n",
    "    ans = []\n",
    "    for word in text:\n",
    "        ans.append(word in setwords)\n",
    "    return ans "
   ]
  },
  {
   "cell_type": "code",
   "execution_count": 166,
   "id": "7fdbbe90",
   "metadata": {},
   "outputs": [
    {
     "data": {
      "text/plain": [
       "[True, True]"
      ]
     },
     "execution_count": 166,
     "metadata": {},
     "output_type": "execute_result"
    }
   ],
   "source": [
    "dictionary = ['вода', 'огонь', 'земля', 'возду']\n",
    "words_in_dict(dictionary, ['огонь', 'земля'])"
   ]
  },
  {
   "cell_type": "markdown",
   "id": "5d62599c",
   "metadata": {},
   "source": [
    "<h1 align=\"center\">Яндекс. Тренировки по алгоритмам июнь 2021, занятие 3</h1>\n",
    "\n",
    "https://contest.yandex.ru/contest/27663/problems/"
   ]
  },
  {
   "cell_type": "markdown",
   "id": "2992989d",
   "metadata": {},
   "source": [
    "<h3 style=\"color:#2E8B57\">A. Количество различных чисел</h3>\n",
    "\n",
    "\n",
    "<h4 align='center'>Решение:</h4>"
   ]
  },
  {
   "cell_type": "code",
   "execution_count": null,
   "id": "1d68e23e",
   "metadata": {},
   "outputs": [],
   "source": []
  }
 ],
 "metadata": {
  "kernelspec": {
   "display_name": "Python 3 (ipykernel)",
   "language": "python",
   "name": "python3"
  },
  "language_info": {
   "codemirror_mode": {
    "name": "ipython",
    "version": 3
   },
   "file_extension": ".py",
   "mimetype": "text/x-python",
   "name": "python",
   "nbconvert_exporter": "python",
   "pygments_lexer": "ipython3",
   "version": "3.10.11"
  }
 },
 "nbformat": 4,
 "nbformat_minor": 5
}
