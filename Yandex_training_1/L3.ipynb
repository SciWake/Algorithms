{
 "cells": [
  {
   "cell_type": "markdown",
   "id": "8a4de813",
   "metadata": {},
   "source": [
    "<h1 align=\"center\">Тренировки по алгоритмам 1.0</h1>\n",
    "\n",
    "https://yandex.ru/yaintern/algorithm-training_1/\n",
    "\n",
    "<h1 align=\"center\">Лекция 3</h1>"
   ]
  },
  {
   "cell_type": "markdown",
   "id": "f9dd0975",
   "metadata": {},
   "source": [
    "<h3 style=\"color:#2E8B57\">1. Наше собственное множествво</h3>\n",
    "\n",
    "Реализуйте своё множество.\n",
    "\n",
    "<h4 align='center'>Решение:</h4>"
   ]
  },
  {
   "cell_type": "code",
   "execution_count": 113,
   "id": "3c8621ca",
   "metadata": {},
   "outputs": [],
   "source": [
    "size = 10\n",
    "myset = [[] for _ in range(size)]\n",
    "\n",
    "def add(x):\n",
    "    if not find(x):\n",
    "        myset[x % size].append(x)\n",
    "\n",
    "    \n",
    "def find(x):\n",
    "    h = x % size\n",
    "    for now in myset[x % size]:\n",
    "        if now == x:\n",
    "            return True\n",
    "    return False\n",
    "\n",
    "\n",
    "def delete(x):\n",
    "    xlist = myset[x % size]\n",
    "    for i in range(len(xlist)):\n",
    "        if xlist[i] == x:\n",
    "            xlist[i] = xlist[len(xlist) - 1]\n",
    "            xlist.pop(-1)\n",
    "            break"
   ]
  },
  {
   "cell_type": "markdown",
   "id": "abf1e725",
   "metadata": {},
   "source": [
    "<h3 style=\"color:#2E8B57\">Задача № 1 </h3>\n",
    "\n",
    "Дана последовательность положительных чисел длиной N и число Х.\n",
    "    \n",
    "Нужно найти два различных числа А и В из последоватлеьности, таких что А + В = Х или вернуть пару 0, 0, если такой пары чисел нет.\n",
    "\n",
    "<h4 align='center'>Решение:</h4>"
   ]
  },
  {
   "cell_type": "code",
   "execution_count": 128,
   "id": "a3c93817",
   "metadata": {},
   "outputs": [],
   "source": [
    "def get_two_num(arr, x):\n",
    "    info = set()\n",
    "    for num in arr:\n",
    "        if num in info:\n",
    "            return num, x - num\n",
    "        info.add(x - num) \n",
    "    return 0, 0"
   ]
  },
  {
   "cell_type": "code",
   "execution_count": 127,
   "id": "8e1d8049",
   "metadata": {},
   "outputs": [
    {
     "data": {
      "text/plain": [
       "(8, 4)"
      ]
     },
     "execution_count": 127,
     "metadata": {},
     "output_type": "execute_result"
    }
   ],
   "source": [
    "get_two_num([1, 4, 7, 8, 10], 12)"
   ]
  },
  {
   "cell_type": "markdown",
   "id": "d42fdb35",
   "metadata": {},
   "source": [
    "<h3 style=\"color:#2E8B57\">Задача № 2</h3>\n",
    "\n",
    "Дан словарь из N слов, длина каждого не превосходит К.\n",
    "\n",
    "В записи каждого из М слов текста (каждое длиной до К) может быть пропущена одна буква. Для каждого слова сказать, входит ли оно (возможно, с одной пропущенной буквой), в словарь\n",
    "<h4 align='center'>Решение:</h4>"
   ]
  },
  {
   "cell_type": "code",
   "execution_count": 161,
   "id": "b83120df",
   "metadata": {},
   "outputs": [],
   "source": [
    "def words_in_dict(dictionary, text):\n",
    "    setwords = set(dictionary)\n",
    "    for word in dictionary:\n",
    "        for delpos in range(len(word)):\n",
    "            setwords.add(word[:delpos] + word[delpos + 1:])\n",
    "    ans = []\n",
    "    for word in text:\n",
    "        ans.append(word in setwords)\n",
    "    return ans "
   ]
  },
  {
   "cell_type": "code",
   "execution_count": 166,
   "id": "7fdbbe90",
   "metadata": {},
   "outputs": [
    {
     "data": {
      "text/plain": [
       "[True, True]"
      ]
     },
     "execution_count": 166,
     "metadata": {},
     "output_type": "execute_result"
    }
   ],
   "source": [
    "dictionary = ['вода', 'огонь', 'земля', 'возду']\n",
    "words_in_dict(dictionary, ['огонь', 'земля'])"
   ]
  },
  {
   "cell_type": "markdown",
   "id": "49a14ab8",
   "metadata": {},
   "source": [
    "<h1 align=\"center\">Яндекс. Тренировки по алгоритмам июнь 2021, занятие 3</h1>\n",
    "\n",
    "https://contest.yandex.ru/contest/27663/problems/"
   ]
  },
  {
   "cell_type": "markdown",
   "id": "cc3b8f41",
   "metadata": {},
   "source": [
    "<h3 style=\"color:#2E8B57\">A. Количество различных чисел</h3>\n",
    "\n",
    "Дан список чисел, который может содержать до 100000 чисел. Определите, сколько в нем встречается различных чисел.\n",
    "\n",
    "**Формат ввода**\n",
    "\n",
    "Вводится список целых чисел. Все числа списка находятся на одной строке.\n",
    "\n",
    "**Формат вывода**\n",
    "\n",
    "Выведите ответ на задачу.\n",
    "\n",
    "<h4 align='center'>Решение:</h4>"
   ]
  },
  {
   "cell_type": "code",
   "execution_count": 167,
   "id": "27944791",
   "metadata": {},
   "outputs": [],
   "source": [
    "def unique_numbers(arr):\n",
    "    return len(set(arr))"
   ]
  },
  {
   "cell_type": "markdown",
   "id": "13cc3501",
   "metadata": {},
   "source": [
    "<h3 style=\"color:#2E8B57\">B. Пересечение множеств</h3>\n",
    "\n",
    "Даны два списка чисел, которые могут содержать до 10000 чисел каждый. Выведите все числа, которые входят как в первый, так и во второй список в порядке возрастания. Примечание. И даже эту задачу на Питоне можно решить в одну строчку.\n",
    "\n",
    "**Формат ввода**\n",
    "\n",
    "Вводятся два списка целых чисел. Все числа каждого списка находятся на отдельной строке.\n",
    "\n",
    "**Формат вывода**\n",
    "\n",
    "Выведите ответ на задачу.\n",
    "<h4 align='center'>Решение:</h4>"
   ]
  },
  {
   "cell_type": "code",
   "execution_count": 169,
   "id": "8f4a0f20",
   "metadata": {},
   "outputs": [
    {
     "name": "stdout",
     "output_type": "stream",
     "text": [
      "1 2 3\n",
      "3 4 2\n",
      "2 3\n"
     ]
    }
   ],
   "source": [
    "seq1 = map(int, input().split())\n",
    "seq2 = map(int, input().split())\n",
    "\n",
    "def intersection(list_a, list_b):\n",
    "    return sorted(set(list_a) & set(list_b))\n",
    "\n",
    "\n",
    "print(*intersection(seq1, seq2))"
   ]
  },
  {
   "cell_type": "markdown",
   "id": "1e3fb73f",
   "metadata": {},
   "source": [
    "<h3 style=\"color:#2E8B57\">D. Количество слов в тексте</h3>\n",
    "\n",
    "Во входном файле (вы можете читать данные из sys.stdin, подключив библиотеку sys) записан текст. Словом считается последовательность непробельных символов идущих подряд, слова разделены одним или большим числом пробелов или символами конца строки. Определите, сколько различных слов содержится в этом тексте.\n",
    "\n",
    "**Формат ввода**\n",
    "Вводится текст.\n",
    "\n",
    "**Формат вывода**\n",
    "Выведите ответ на задачу.\n",
    "<h4 align='center'>Решение:</h4>"
   ]
  },
  {
   "cell_type": "code",
   "execution_count": 174,
   "id": "386808d3",
   "metadata": {},
   "outputs": [
    {
     "name": "stdout",
     "output_type": "stream",
     "text": [
      "0\n"
     ]
    }
   ],
   "source": [
    "import sys\n",
    "\n",
    "\n",
    "def work():\n",
    "    words = set()\n",
    "    for line in sys.stdin:\n",
    "        words.update(line.split())\n",
    "    return len(words)\n",
    "\n",
    "\n",
    "if __name__ == \"__main__\":\n",
    "    res = work()\n",
    "    print(res)"
   ]
  },
  {
   "cell_type": "markdown",
   "id": "91a5dbd3",
   "metadata": {},
   "source": [
    "<h3 style=\"color:#2E8B57\">C. Кубики</h3>\n",
    "\n",
    "Аня и Боря любят играть в разноцветные кубики, причем у каждого из них свой набор и в каждом наборе все кубики различны по цвету. Однажды дети заинтересовались, сколько существуют цветов таких, что кубики каждого цвета присутствуют в обоих наборах. Для этого они занумеровали все цвета случайными числами. На этом их энтузиазм иссяк, поэтому вам предлагается помочь им в оставшейся части. Номер любого цвета — это целое число в пределах от 0 до 109.\n",
    "\n",
    "**Формат ввода**\n",
    "\n",
    "В первой строке входного файла записаны числа N и M — количество кубиков у Ани и Бори соответственно. В следующих N строках заданы номера цветов кубиков Ани. В последних M строках номера цветов кубиков Бори.\n",
    "\n",
    "**Формат вывода**\n",
    "\n",
    "Выведите сначала количество, а затем отсортированные по возрастанию номера цветов таких, что кубики каждого цвета есть в обоих наборах, затем количество и отсортированные по возрастанию номера остальных цветов у Ани, потом количество и отсортированные по возрастанию номера остальных цветов у Бори.\n",
    "<h4 align='center'>Решение:</h4>"
   ]
  },
  {
   "cell_type": "code",
   "execution_count": null,
   "id": "d3b1ecd1",
   "metadata": {},
   "outputs": [],
   "source": [
    "def work():\n",
    "    n, m = map(int, input().split())\n",
    "    anya = {int(input()) for _ in range(n)}\n",
    "    intersec = set()\n",
    "    borya = set()\n",
    "    \n",
    "    for _ in range(m):\n",
    "        x = int(input())\n",
    "        if x in anya:\n",
    "            intersec.add(x)\n",
    "            anya.discard(x)\n",
    "        else:\n",
    "            borya.add(x)\n",
    "\n",
    "    print(len(intersec))\n",
    "    print(*sorted(intersec))\n",
    "    print(len(anya))\n",
    "    print(*sorted(anya))\n",
    "    print(len(borya))\n",
    "    print(*sorted(borya))\n",
    "\n",
    "\n",
    "if __name__ == \"__main__\":\n",
    "    work()"
   ]
  },
  {
   "cell_type": "code",
   "execution_count": null,
   "id": "9d4b4fc4",
   "metadata": {},
   "outputs": [],
   "source": []
  }
 ],
 "metadata": {
  "kernelspec": {
   "display_name": "Python 3 (ipykernel)",
   "language": "python",
   "name": "python3"
  },
  "language_info": {
   "codemirror_mode": {
    "name": "ipython",
    "version": 3
   },
   "file_extension": ".py",
   "mimetype": "text/x-python",
   "name": "python",
   "nbconvert_exporter": "python",
   "pygments_lexer": "ipython3",
   "version": "3.10.11"
  }
 },
 "nbformat": 4,
 "nbformat_minor": 5
}
