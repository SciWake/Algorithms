{
 "cells": [
  {
   "cell_type": "markdown",
   "id": "8a4de813",
   "metadata": {},
   "source": [
    "<h1 align=\"center\">Тренировки по алгоритмам 1.0</h1>\n",
    "\n",
    "https://yandex.ru/yaintern/algorithm-training_1/\n",
    "\n",
    "<h1 align=\"center\">Лекция 4</h1>"
   ]
  },
  {
   "cell_type": "markdown",
   "id": "f9dd0975",
   "metadata": {},
   "source": [
    "<h3 style=\"color:#2E8B57\">1. Сортировка подсчётом</h3>\n",
    "\n",
    "Реализуйте своё множество.\n",
    "\n",
    "<h4 align='center'>Решение:</h4>"
   ]
  },
  {
   "cell_type": "code",
   "execution_count": 1,
   "id": "9cc59a24",
   "metadata": {},
   "outputs": [],
   "source": [
    "def min_max(seq):\n",
    "    minv, maxv = seq[0], seq[0]\n",
    "    for num in seq:\n",
    "        if minv > num:\n",
    "            minv = num\n",
    "        if maxv < num:\n",
    "            maxv = num\n",
    "    return maxv, minv\n",
    "\n",
    "def countsort(seq):\n",
    "    maxval, minval = min_max(seq)\n",
    "    k = (maxval - minval + 1)\n",
    "    count = [0] * k\n",
    "    for now in seq:\n",
    "        count[now - minval] += 1\n",
    "    nowpos = 0\n",
    "    for  val in range(0, k):\n",
    "        for i in range(count[val]):\n",
    "            seq[nowpos] = val + minval\n",
    "            nowpos += 1"
   ]
  },
  {
   "cell_type": "code",
   "execution_count": 2,
   "id": "82b521b4",
   "metadata": {},
   "outputs": [
    {
     "data": {
      "text/plain": [
       "(40, -2)"
      ]
     },
     "execution_count": 2,
     "metadata": {},
     "output_type": "execute_result"
    }
   ],
   "source": [
    "min_max([1, 20, 40, -2])"
   ]
  },
  {
   "cell_type": "code",
   "execution_count": 5,
   "id": "e0b65597",
   "metadata": {},
   "outputs": [
    {
     "data": {
      "text/plain": [
       "[1, 1, 2, 2, 4, 5, 5]"
      ]
     },
     "execution_count": 5,
     "metadata": {},
     "output_type": "execute_result"
    }
   ],
   "source": [
    "s = [5, 4, 2, 2, 1, 1, 5]\n",
    "countsort(s)\n",
    "s"
   ]
  },
  {
   "cell_type": "markdown",
   "id": "d481278d",
   "metadata": {},
   "source": [
    "<h3 style=\"color:#2E8B57\">Задача № 1</h3>\n",
    "\n",
    "Дано два числа X и Y без ведущих нулей.\n",
    "\n",
    "Необходимо проверить, можно ли получить первое из второго перестановкой цифр.\n",
    "\n",
    "<h4 align='center'>Решение:</h4>"
   ]
  },
  {
   "cell_type": "code",
   "execution_count": 25,
   "id": "ba726a5b",
   "metadata": {},
   "outputs": [],
   "source": [
    "def one_in_two(one, two):\n",
    "    one_d = dict()\n",
    "    two_d = dict()\n",
    "    while one > 0:\n",
    "        n1 = one % 10\n",
    "        n2 = two % 10\n",
    "        one_d[n1] = one_d.get(n1, 0) + 1\n",
    "        two_d[n2] = two_d.get(n2, 0) + 1\n",
    "        one //= 10\n",
    "        two //= 10\n",
    "    flag = False\n",
    "    \n",
    "    for num in one_d:\n",
    "        if not two_d.get(num, 0) or one_d[num] != two_d[num]:\n",
    "            return False\n",
    "    return True"
   ]
  },
  {
   "cell_type": "code",
   "execution_count": 29,
   "id": "f36659c0",
   "metadata": {},
   "outputs": [
    {
     "data": {
      "text/plain": [
       "False"
      ]
     },
     "execution_count": 29,
     "metadata": {},
     "output_type": "execute_result"
    }
   ],
   "source": [
    "one_in_two(1234, 3211)"
   ]
  },
  {
   "cell_type": "code",
   "execution_count": 31,
   "id": "aab6666e",
   "metadata": {},
   "outputs": [],
   "source": [
    "def isdigitpermutation(x, y):\n",
    "    def count_digits(num):\n",
    "        digitcount = [0] * 10\n",
    "        while num > 0:\n",
    "            lastdigit = num % 10\n",
    "            digitcount[lastdigit] += 1\n",
    "            num //= 10\n",
    "        return digitcount\n",
    "\n",
    "    digits_x = count_digits(x)\n",
    "    digits_y = count_digits(y)\n",
    "    for digit in range(10):\n",
    "        if digits_x[digit] != digits_y[digit]:\n",
    "            return False\n",
    "    return True"
   ]
  },
  {
   "cell_type": "code",
   "execution_count": 34,
   "id": "50df625b",
   "metadata": {},
   "outputs": [
    {
     "data": {
      "text/plain": [
       "True"
      ]
     },
     "execution_count": 34,
     "metadata": {},
     "output_type": "execute_result"
    }
   ],
   "source": [
    "isdigitpermutation(2123, 1232)"
   ]
  },
  {
   "cell_type": "markdown",
   "id": "9bac458e",
   "metadata": {},
   "source": [
    "<h3 style=\"color:#2E8B57\">Задача № 1</h3>\n",
    "\n",
    "Дано два числа X и Y без ведущих нулей.\n",
    "\n",
    "Необходимо проверить, можно ли получить первое из второго перестановкой цифр.\n",
    "\n",
    "<h4 align='center'>Решение:</h4>"
   ]
  },
  {
   "cell_type": "code",
   "execution_count": null,
   "id": "6b5e4468",
   "metadata": {},
   "outputs": [],
   "source": [
    "На шахматной доске N × N находятся М ладей (ладья бьет\n",
    "клетки на той же горизонтали или вертикали до ближайшей\n",
    "занятой)\n",
    "Определите, сколько пар ладей бьют друг друга.\n",
    "Ладьи задаются парой чисел I и J, обозначающих координаты\n",
    "клетки.\n",
    "1 N $ 10°, 0 M 2 • 105"
   ]
  }
 ],
 "metadata": {
  "kernelspec": {
   "display_name": "Python 3 (ipykernel)",
   "language": "python",
   "name": "python3"
  },
  "language_info": {
   "codemirror_mode": {
    "name": "ipython",
    "version": 3
   },
   "file_extension": ".py",
   "mimetype": "text/x-python",
   "name": "python",
   "nbconvert_exporter": "python",
   "pygments_lexer": "ipython3",
   "version": "3.10.11"
  }
 },
 "nbformat": 4,
 "nbformat_minor": 5
}
